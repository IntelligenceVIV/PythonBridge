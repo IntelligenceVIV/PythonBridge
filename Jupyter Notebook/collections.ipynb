{
 "cells": [
  {
   "cell_type": "code",
   "execution_count": 1,
   "metadata": {},
   "outputs": [],
   "source": [
    "# 这个模块实现了特定目标的容器\n",
    "# 以提供Python标准内建容器 dict , list , set , 和 tuple 的替代选择\n",
    "# namedtuple() 创建命名元组子类的工厂函数\n",
    "# deque 类似列表(list)的容器，实现了在两端快速添加(append)和弹出(pop)\n",
    "# ChainMap 类似字典(dict)的容器类，将多个映射集合到一个视图里面\n",
    "# Counter 字典的子类，提供了可哈希对象的计数功能\n",
    "# OrderedDict 字典的子类，保存了他们被添加的顺序\n",
    "# defaultdict 字典的子类，提供了一个工厂函数，为字典查询提供一个默认值\n",
    "# UserDict 封装了字典对象，简化了字典子类化\n",
    "# UserList 封装了列表对象，简化了列表子类化\n",
    "# UserString 封装了列表对象，简化了字符串子类化"
   ]
  },
  {
   "cell_type": "code",
   "execution_count": null,
   "metadata": {},
   "outputs": [],
   "source": [
    "# ChainMap对象"
   ]
  },
  {
   "cell_type": "code",
   "execution_count": null,
   "metadata": {},
   "outputs": [
    {
     "data": {
      "text/plain": [
       "['music', 'art', 'opera']"
      ]
     },
     "execution_count": 2,
     "metadata": {},
     "output_type": "execute_result"
    }
   ],
   "source": [
    "from collections import ChainMap\n",
    "baseline = {'music': 'bach', 'art': 'rembrandt'}\n",
    "adjustments = {'art': 'van gogh', 'opera': 'carmen'}\n",
    "list(ChainMap(adjustments, baseline))"
   ]
  },
  {
   "cell_type": "code",
   "execution_count": 4,
   "metadata": {},
   "outputs": [
    {
     "name": "stdout",
     "output_type": "stream",
     "text": [
      "ChainMap({'__name__': '__main__', '__doc__': 'Automatically created module for IPython interactive environment', '__package__': None, '__loader__': None, '__spec__': None, '__builtin__': <module 'builtins' (built-in)>, '__builtins__': <module 'builtins' (built-in)>, '_ih': ['', '# 这个模块实现了特定目标的容器\\n# 以提供Python标准内建容器 dict , list , set , 和 tuple 的替代选择\\n# namedtuple() 创建命名元组子类的工厂函数\\n# deque 类似列表(list)的容器，实现了在两端快速添加(append)和弹出(pop)\\n# ChainMap 类似字典(dict)的容器类，将多个映射集合到一个视图里面\\n# Counter 字典的子类，提供了可哈希对象的计数功能\\n# OrderedDict 字典的子类，保存了他们被添加的顺序\\n# defaultdict 字典的子类，提供了一个工厂函数，为字典查询提供一个默认值\\n# UserDict 封装了字典对象，简化了字典子类化\\n# UserList 封装了列表对象，简化了列表子类化\\n# UserString 封装了列表对象，简化了字符串子类化', \"from collections import ChainMap\\nbaseline = {'music': 'bach', 'art': 'rembrandt'}\\nadjustments = {'art': 'van gogh', 'opera': 'carmen'}\\nlist(ChainMap(adjustments, baseline))\", 'import builtins\\npylookup = ChainMap(locals(), globals(), vars(builtins))', 'import builtins\\npylookup = ChainMap(locals(), globals(), vars(builtins))\\nprint(pylookup)'], '_oh': {2: ['music', 'art', 'opera']}, '_dh': ['C:\\\\Users\\\\Noah\\\\Documents\\\\cookbook'], 'In': ['', '# 这个模块实现了特定目标的容器\\n# 以提供Python标准内建容器 dict , list , set , 和 tuple 的替代选择\\n# namedtuple() 创建命名元组子类的工厂函数\\n# deque 类似列表(list)的容器，实现了在两端快速添加(append)和弹出(pop)\\n# ChainMap 类似字典(dict)的容器类，将多个映射集合到一个视图里面\\n# Counter 字典的子类，提供了可哈希对象的计数功能\\n# OrderedDict 字典的子类，保存了他们被添加的顺序\\n# defaultdict 字典的子类，提供了一个工厂函数，为字典查询提供一个默认值\\n# UserDict 封装了字典对象，简化了字典子类化\\n# UserList 封装了列表对象，简化了列表子类化\\n# UserString 封装了列表对象，简化了字符串子类化', \"from collections import ChainMap\\nbaseline = {'music': 'bach', 'art': 'rembrandt'}\\nadjustments = {'art': 'van gogh', 'opera': 'carmen'}\\nlist(ChainMap(adjustments, baseline))\", 'import builtins\\npylookup = ChainMap(locals(), globals(), vars(builtins))', 'import builtins\\npylookup = ChainMap(locals(), globals(), vars(builtins))\\nprint(pylookup)'], 'Out': {2: ['music', 'art', 'opera']}, 'get_ipython': <bound method InteractiveShell.get_ipython of <ipykernel.zmqshell.ZMQInteractiveShell object at 0x000002164006BB00>>, 'exit': <IPython.core.autocall.ZMQExitAutocall object at 0x0000021640BD1DD8>, 'quit': <IPython.core.autocall.ZMQExitAutocall object at 0x0000021640BD1DD8>, '_': ['music', 'art', 'opera'], '__': '', '___': '', '_i': 'import builtins\\npylookup = ChainMap(locals(), globals(), vars(builtins))', '_ii': \"from collections import ChainMap\\nbaseline = {'music': 'bach', 'art': 'rembrandt'}\\nadjustments = {'art': 'van gogh', 'opera': 'carmen'}\\nlist(ChainMap(adjustments, baseline))\", '_iii': '# 这个模块实现了特定目标的容器\\n# 以提供Python标准内建容器 dict , list , set , 和 tuple 的替代选择\\n# namedtuple() 创建命名元组子类的工厂函数\\n# deque 类似列表(list)的容器，实现了在两端快速添加(append)和弹出(pop)\\n# ChainMap 类似字典(dict)的容器类，将多个映射集合到一个视图里面\\n# Counter 字典的子类，提供了可哈希对象的计数功能\\n# OrderedDict 字典的子类，保存了他们被添加的顺序\\n# defaultdict 字典的子类，提供了一个工厂函数，为字典查询提供一个默认值\\n# UserDict 封装了字典对象，简化了字典子类化\\n# UserList 封装了列表对象，简化了列表子类化\\n# UserString 封装了列表对象，简化了字符串子类化', '_i1': '# 这个模块实现了特定目标的容器\\n# 以提供Python标准内建容器 dict , list , set , 和 tuple 的替代选择\\n# namedtuple() 创建命名元组子类的工厂函数\\n# deque 类似列表(list)的容器，实现了在两端快速添加(append)和弹出(pop)\\n# ChainMap 类似字典(dict)的容器类，将多个映射集合到一个视图里面\\n# Counter 字典的子类，提供了可哈希对象的计数功能\\n# OrderedDict 字典的子类，保存了他们被添加的顺序\\n# defaultdict 字典的子类，提供了一个工厂函数，为字典查询提供一个默认值\\n# UserDict 封装了字典对象，简化了字典子类化\\n# UserList 封装了列表对象，简化了列表子类化\\n# UserString 封装了列表对象，简化了字符串子类化', '_i2': \"from collections import ChainMap\\nbaseline = {'music': 'bach', 'art': 'rembrandt'}\\nadjustments = {'art': 'van gogh', 'opera': 'carmen'}\\nlist(ChainMap(adjustments, baseline))\", 'ChainMap': <class 'collections.ChainMap'>, 'baseline': {'music': 'bach', 'art': 'rembrandt'}, 'adjustments': {'art': 'van gogh', 'opera': 'carmen'}, '_2': ['music', 'art', 'opera'], '_i3': 'import builtins\\npylookup = ChainMap(locals(), globals(), vars(builtins))', 'builtins': <module 'builtins' (built-in)>, 'pylookup': ..., '_i4': 'import builtins\\npylookup = ChainMap(locals(), globals(), vars(builtins))\\nprint(pylookup)'}, {'__name__': '__main__', '__doc__': 'Automatically created module for IPython interactive environment', '__package__': None, '__loader__': None, '__spec__': None, '__builtin__': <module 'builtins' (built-in)>, '__builtins__': <module 'builtins' (built-in)>, '_ih': ['', '# 这个模块实现了特定目标的容器\\n# 以提供Python标准内建容器 dict , list , set , 和 tuple 的替代选择\\n# namedtuple() 创建命名元组子类的工厂函数\\n# deque 类似列表(list)的容器，实现了在两端快速添加(append)和弹出(pop)\\n# ChainMap 类似字典(dict)的容器类，将多个映射集合到一个视图里面\\n# Counter 字典的子类，提供了可哈希对象的计数功能\\n# OrderedDict 字典的子类，保存了他们被添加的顺序\\n# defaultdict 字典的子类，提供了一个工厂函数，为字典查询提供一个默认值\\n# UserDict 封装了字典对象，简化了字典子类化\\n# UserList 封装了列表对象，简化了列表子类化\\n# UserString 封装了列表对象，简化了字符串子类化', \"from collections import ChainMap\\nbaseline = {'music': 'bach', 'art': 'rembrandt'}\\nadjustments = {'art': 'van gogh', 'opera': 'carmen'}\\nlist(ChainMap(adjustments, baseline))\", 'import builtins\\npylookup = ChainMap(locals(), globals(), vars(builtins))', 'import builtins\\npylookup = ChainMap(locals(), globals(), vars(builtins))\\nprint(pylookup)'], '_oh': {2: ['music', 'art', 'opera']}, '_dh': ['C:\\\\Users\\\\Noah\\\\Documents\\\\cookbook'], 'In': ['', '# 这个模块实现了特定目标的容器\\n# 以提供Python标准内建容器 dict , list , set , 和 tuple 的替代选择\\n# namedtuple() 创建命名元组子类的工厂函数\\n# deque 类似列表(list)的容器，实现了在两端快速添加(append)和弹出(pop)\\n# ChainMap 类似字典(dict)的容器类，将多个映射集合到一个视图里面\\n# Counter 字典的子类，提供了可哈希对象的计数功能\\n# OrderedDict 字典的子类，保存了他们被添加的顺序\\n# defaultdict 字典的子类，提供了一个工厂函数，为字典查询提供一个默认值\\n# UserDict 封装了字典对象，简化了字典子类化\\n# UserList 封装了列表对象，简化了列表子类化\\n# UserString 封装了列表对象，简化了字符串子类化', \"from collections import ChainMap\\nbaseline = {'music': 'bach', 'art': 'rembrandt'}\\nadjustments = {'art': 'van gogh', 'opera': 'carmen'}\\nlist(ChainMap(adjustments, baseline))\", 'import builtins\\npylookup = ChainMap(locals(), globals(), vars(builtins))', 'import builtins\\npylookup = ChainMap(locals(), globals(), vars(builtins))\\nprint(pylookup)'], 'Out': {2: ['music', 'art', 'opera']}, 'get_ipython': <bound method InteractiveShell.get_ipython of <ipykernel.zmqshell.ZMQInteractiveShell object at 0x000002164006BB00>>, 'exit': <IPython.core.autocall.ZMQExitAutocall object at 0x0000021640BD1DD8>, 'quit': <IPython.core.autocall.ZMQExitAutocall object at 0x0000021640BD1DD8>, '_': ['music', 'art', 'opera'], '__': '', '___': '', '_i': 'import builtins\\npylookup = ChainMap(locals(), globals(), vars(builtins))', '_ii': \"from collections import ChainMap\\nbaseline = {'music': 'bach', 'art': 'rembrandt'}\\nadjustments = {'art': 'van gogh', 'opera': 'carmen'}\\nlist(ChainMap(adjustments, baseline))\", '_iii': '# 这个模块实现了特定目标的容器\\n# 以提供Python标准内建容器 dict , list , set , 和 tuple 的替代选择\\n# namedtuple() 创建命名元组子类的工厂函数\\n# deque 类似列表(list)的容器，实现了在两端快速添加(append)和弹出(pop)\\n# ChainMap 类似字典(dict)的容器类，将多个映射集合到一个视图里面\\n# Counter 字典的子类，提供了可哈希对象的计数功能\\n# OrderedDict 字典的子类，保存了他们被添加的顺序\\n# defaultdict 字典的子类，提供了一个工厂函数，为字典查询提供一个默认值\\n# UserDict 封装了字典对象，简化了字典子类化\\n# UserList 封装了列表对象，简化了列表子类化\\n# UserString 封装了列表对象，简化了字符串子类化', '_i1': '# 这个模块实现了特定目标的容器\\n# 以提供Python标准内建容器 dict , list , set , 和 tuple 的替代选择\\n# namedtuple() 创建命名元组子类的工厂函数\\n# deque 类似列表(list)的容器，实现了在两端快速添加(append)和弹出(pop)\\n# ChainMap 类似字典(dict)的容器类，将多个映射集合到一个视图里面\\n# Counter 字典的子类，提供了可哈希对象的计数功能\\n# OrderedDict 字典的子类，保存了他们被添加的顺序\\n# defaultdict 字典的子类，提供了一个工厂函数，为字典查询提供一个默认值\\n# UserDict 封装了字典对象，简化了字典子类化\\n# UserList 封装了列表对象，简化了列表子类化\\n# UserString 封装了列表对象，简化了字符串子类化', '_i2': \"from collections import ChainMap\\nbaseline = {'music': 'bach', 'art': 'rembrandt'}\\nadjustments = {'art': 'van gogh', 'opera': 'carmen'}\\nlist(ChainMap(adjustments, baseline))\", 'ChainMap': <class 'collections.ChainMap'>, 'baseline': {'music': 'bach', 'art': 'rembrandt'}, 'adjustments': {'art': 'van gogh', 'opera': 'carmen'}, '_2': ['music', 'art', 'opera'], '_i3': 'import builtins\\npylookup = ChainMap(locals(), globals(), vars(builtins))', 'builtins': <module 'builtins' (built-in)>, 'pylookup': ..., '_i4': 'import builtins\\npylookup = ChainMap(locals(), globals(), vars(builtins))\\nprint(pylookup)'}, {'__name__': 'builtins', '__doc__': \"Built-in functions, exceptions, and other objects.\\n\\nNoteworthy: None is the `nil' object; Ellipsis represents `...' in slices.\", '__package__': '', '__loader__': <class '_frozen_importlib.BuiltinImporter'>, '__spec__': ModuleSpec(name='builtins', loader=<class '_frozen_importlib.BuiltinImporter'>), '__build_class__': <built-in function __build_class__>, '__import__': <built-in function __import__>, 'abs': <built-in function abs>, 'all': <built-in function all>, 'any': <built-in function any>, 'ascii': <built-in function ascii>, 'bin': <built-in function bin>, 'breakpoint': <built-in function breakpoint>, 'callable': <built-in function callable>, 'chr': <built-in function chr>, 'compile': <built-in function compile>, 'delattr': <built-in function delattr>, 'dir': <built-in function dir>, 'divmod': <built-in function divmod>, 'eval': <built-in function eval>, 'exec': <built-in function exec>, 'format': <built-in function format>, 'getattr': <built-in function getattr>, 'globals': <built-in function globals>, 'hasattr': <built-in function hasattr>, 'hash': <built-in function hash>, 'hex': <built-in function hex>, 'id': <built-in function id>, 'input': <bound method Kernel.raw_input of <ipykernel.ipkernel.IPythonKernel object at 0x000002163F58EB70>>, 'isinstance': <built-in function isinstance>, 'issubclass': <built-in function issubclass>, 'iter': <built-in function iter>, 'len': <built-in function len>, 'locals': <built-in function locals>, 'max': <built-in function max>, 'min': <built-in function min>, 'next': <built-in function next>, 'oct': <built-in function oct>, 'ord': <built-in function ord>, 'pow': <built-in function pow>, 'print': <built-in function print>, 'repr': <built-in function repr>, 'round': <built-in function round>, 'setattr': <built-in function setattr>, 'sorted': <built-in function sorted>, 'sum': <built-in function sum>, 'vars': <built-in function vars>, 'None': None, 'Ellipsis': Ellipsis, 'NotImplemented': NotImplemented, 'False': False, 'True': True, 'bool': <class 'bool'>, 'memoryview': <class 'memoryview'>, 'bytearray': <class 'bytearray'>, 'bytes': <class 'bytes'>, 'classmethod': <class 'classmethod'>, 'complex': <class 'complex'>, 'dict': <class 'dict'>, 'enumerate': <class 'enumerate'>, 'filter': <class 'filter'>, 'float': <class 'float'>, 'frozenset': <class 'frozenset'>, 'property': <class 'property'>, 'int': <class 'int'>, 'list': <class 'list'>, 'map': <class 'map'>, 'object': <class 'object'>, 'range': <class 'range'>, 'reversed': <class 'reversed'>, 'set': <class 'set'>, 'slice': <class 'slice'>, 'staticmethod': <class 'staticmethod'>, 'str': <class 'str'>, 'super': <class 'super'>, 'tuple': <class 'tuple'>, 'type': <class 'type'>, 'zip': <class 'zip'>, '__debug__': True, 'BaseException': <class 'BaseException'>, 'Exception': <class 'Exception'>, 'TypeError': <class 'TypeError'>, 'StopAsyncIteration': <class 'StopAsyncIteration'>, 'StopIteration': <class 'StopIteration'>, 'GeneratorExit': <class 'GeneratorExit'>, 'SystemExit': <class 'SystemExit'>, 'KeyboardInterrupt': <class 'KeyboardInterrupt'>, 'ImportError': <class 'ImportError'>, 'ModuleNotFoundError': <class 'ModuleNotFoundError'>, 'OSError': <class 'OSError'>, 'EnvironmentError': <class 'OSError'>, 'IOError': <class 'OSError'>, 'WindowsError': <class 'OSError'>, 'EOFError': <class 'EOFError'>, 'RuntimeError': <class 'RuntimeError'>, 'RecursionError': <class 'RecursionError'>, 'NotImplementedError': <class 'NotImplementedError'>, 'NameError': <class 'NameError'>, 'UnboundLocalError': <class 'UnboundLocalError'>, 'AttributeError': <class 'AttributeError'>, 'SyntaxError': <class 'SyntaxError'>, 'IndentationError': <class 'IndentationError'>, 'TabError': <class 'TabError'>, 'LookupError': <class 'LookupError'>, 'IndexError': <class 'IndexError'>, 'KeyError': <class 'KeyError'>, 'ValueError': <class 'ValueError'>, 'UnicodeError': <class 'UnicodeError'>, 'UnicodeEncodeError': <class 'UnicodeEncodeError'>, 'UnicodeDecodeError': <class 'UnicodeDecodeError'>, 'UnicodeTranslateError': <class 'UnicodeTranslateError'>, 'AssertionError': <class 'AssertionError'>, 'ArithmeticError': <class 'ArithmeticError'>, 'FloatingPointError': <class 'FloatingPointError'>, 'OverflowError': <class 'OverflowError'>, 'ZeroDivisionError': <class 'ZeroDivisionError'>, 'SystemError': <class 'SystemError'>, 'ReferenceError': <class 'ReferenceError'>, 'MemoryError': <class 'MemoryError'>, 'BufferError': <class 'BufferError'>, 'Warning': <class 'Warning'>, 'UserWarning': <class 'UserWarning'>, 'DeprecationWarning': <class 'DeprecationWarning'>, 'PendingDeprecationWarning': <class 'PendingDeprecationWarning'>, 'SyntaxWarning': <class 'SyntaxWarning'>, 'RuntimeWarning': <class 'RuntimeWarning'>, 'FutureWarning': <class 'FutureWarning'>, 'ImportWarning': <class 'ImportWarning'>, 'UnicodeWarning': <class 'UnicodeWarning'>, 'BytesWarning': <class 'BytesWarning'>, 'ResourceWarning': <class 'ResourceWarning'>, 'ConnectionError': <class 'ConnectionError'>, 'BlockingIOError': <class 'BlockingIOError'>, 'BrokenPipeError': <class 'BrokenPipeError'>, 'ChildProcessError': <class 'ChildProcessError'>, 'ConnectionAbortedError': <class 'ConnectionAbortedError'>, 'ConnectionRefusedError': <class 'ConnectionRefusedError'>, 'ConnectionResetError': <class 'ConnectionResetError'>, 'FileExistsError': <class 'FileExistsError'>, 'FileNotFoundError': <class 'FileNotFoundError'>, 'IsADirectoryError': <class 'IsADirectoryError'>, 'NotADirectoryError': <class 'NotADirectoryError'>, 'InterruptedError': <class 'InterruptedError'>, 'PermissionError': <class 'PermissionError'>, 'ProcessLookupError': <class 'ProcessLookupError'>, 'TimeoutError': <class 'TimeoutError'>, 'open': <built-in function open>, 'copyright': Copyright (c) 2001-2018 Python Software Foundation.\n",
      "All Rights Reserved.\n",
      "\n",
      "Copyright (c) 2000 BeOpen.com.\n",
      "All Rights Reserved.\n",
      "\n",
      "Copyright (c) 1995-2001 Corporation for National Research Initiatives.\n",
      "All Rights Reserved.\n",
      "\n",
      "Copyright (c) 1991-1995 Stichting Mathematisch Centrum, Amsterdam.\n",
      "All Rights Reserved., 'credits':     Thanks to CWI, CNRI, BeOpen.com, Zope Corporation and a cast of thousands\n",
      "    for supporting Python development.  See www.python.org for more information., 'license': See https://www.python.org/psf/license/, 'help': Type help() for interactive help, or help(object) for help about object., '__IPYTHON__': True, 'display': <function display at 0x000002163EFCFA60>, 'get_ipython': <bound method InteractiveShell.get_ipython of <ipykernel.zmqshell.ZMQInteractiveShell object at 0x000002164006BB00>>})\n"
     ]
    }
   ],
   "source": [
    "import builtins\n",
    "pylookup = ChainMap(locals(), globals(), vars(builtins))\n",
    "print(pylookup)"
   ]
  },
  {
   "cell_type": "code",
   "execution_count": 6,
   "metadata": {},
   "outputs": [],
   "source": [
    "# import os, argparse\n",
    "\n",
    "# defaults = {'color': 'red', 'user': 'guest'}\n",
    "\n",
    "# parser = argparse.ArgumentParser()\n",
    "# parser.add_argument('-u', '--user')\n",
    "# parser.add_argument('-c', '--color')\n",
    "# namespace = parser.parse_args()\n",
    "# command_line_args = {k:v for k, v in vars(namespace).items() if v}\n",
    "\n",
    "# combined = ChainMap(command_line_args, os.environ, defaults)\n",
    "# print(combined['color'])\n",
    "# print(combined['user'])"
   ]
  },
  {
   "cell_type": "code",
   "execution_count": null,
   "metadata": {},
   "outputs": [
    {
     "data": {
      "text/plain": [
       "{}"
      ]
     },
     "execution_count": 8,
     "metadata": {},
     "output_type": "execute_result"
    }
   ],
   "source": [
    "c = ChainMap()        # Create root context\n",
    "d = c.new_child()     # Create nested child context\n",
    "e = c.new_child()     # Child of c, independent from d\n",
    "e.maps[0]             # Current context dictionary -- like Python's locals()\n",
    "e.maps[-1]            # Root context -- like Python's globals()\n",
    "e.parents             # Enclosing context chain -- like Python's nonlocals\n",
    "\n",
    "d['x'] = 1            # Set value in current context\n",
    "d['x']                # Get first key in the chain of contexts\n",
    "del d['x']            # Delete from current context\n",
    "list(d)               # All nested values\n",
    "#k in d                # Check all nested values\n",
    "len(d)                # Number of nested values\n",
    "d.items()             # All nested items\n",
    "dict(d)               # Flatten into a regular dictionary"
   ]
  },
  {
   "cell_type": "code",
   "execution_count": 9,
   "metadata": {},
   "outputs": [
    {
     "name": "stdout",
     "output_type": "stream",
     "text": [
      "DeepChainMap({'zebra': 'black', 'snake': 'red'}, {}, {'lion': 'orange'})\n"
     ]
    },
    {
     "data": {
      "text/plain": [
       "DeepChainMap({'zebra': 'black', 'snake': 'red'}, {}, {'lion': 'orange'})"
      ]
     },
     "execution_count": 9,
     "metadata": {},
     "output_type": "execute_result"
    }
   ],
   "source": [
    "class DeepChainMap(ChainMap):\n",
    "    'Variant of ChainMap that allows direct updates to inner scopes'\n",
    "\n",
    "    def __setitem__(self, key, value):\n",
    "        for mapping in self.maps:\n",
    "            if key in mapping:\n",
    "                mapping[key] = value\n",
    "                return\n",
    "        self.maps[0][key] = value\n",
    "\n",
    "    def __delitem__(self, key):\n",
    "        for mapping in self.maps:\n",
    "            if key in mapping:\n",
    "                del mapping[key]\n",
    "                return\n",
    "        raise KeyError(key)\n",
    "\n",
    "d = DeepChainMap({'zebra': 'black'}, {'elephant': 'blue'}, {'lion': 'yellow'})\n",
    "d['lion'] = 'orange'         # update an existing key two levels down\n",
    "d['snake'] = 'red'           # new keys get added to the topmost dict\n",
    "del d['elephant']            # remove an existing key one level down\n",
    "print(d)                            # display result\n",
    "DeepChainMap({'zebra': 'black', 'snake': 'red'}, {}, {'lion': 'orange'})"
   ]
  },
  {
   "cell_type": "code",
   "execution_count": 10,
   "metadata": {},
   "outputs": [],
   "source": [
    "# Counter对象"
   ]
  },
  {
   "cell_type": "code",
   "execution_count": 11,
   "metadata": {},
   "outputs": [
    {
     "data": {
      "text/plain": [
       "Counter({'red': 2, 'blue': 3, 'green': 1})"
      ]
     },
     "execution_count": 11,
     "metadata": {},
     "output_type": "execute_result"
    }
   ],
   "source": [
    "# 一个计数器工具提供快速和方便的计数\n",
    "from collections import Counter\n",
    "cnt = Counter()\n",
    "for word in ['red', 'blue', 'red', 'green', 'blue', 'blue']:\n",
    "    cnt[word] += 1\n",
    "cnt"
   ]
  },
  {
   "cell_type": "code",
   "execution_count": null,
   "metadata": {},
   "outputs": [],
   "source": [
    ""
   ]
  }
 ],
 "metadata": {
  "kernelspec": {
   "display_name": "Python 3",
   "language": "python",
   "name": "python3"
  },
  "language_info": {
   "codemirror_mode": {
    "name": "ipython",
    "version": 3
   },
   "file_extension": ".py",
   "mimetype": "text/x-python",
   "name": "python",
   "nbconvert_exporter": "python",
   "pygments_lexer": "ipython3",
   "version": "3.7.1"
  }
 },
 "nbformat": 4,
 "nbformat_minor": 2
}
